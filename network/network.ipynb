{
 "cells": [
  {
   "cell_type": "markdown",
   "metadata": {},
   "source": [
    "Implementing Neural Network from Scratch"
   ]
  },
  {
   "cell_type": "code",
   "execution_count": 2,
   "metadata": {},
   "outputs": [],
   "source": [
    "#load both training and testing data\n",
    "import pandas as pd \n",
    "train_data=pd.read_csv(r\"E:\\Projects\\Victor-Files\\Digit_recognizer\\data\\train.csv\")\n",
    "test_data=pd.read_csv(r\"E:\\Projects\\Victor-Files\\Digit_recognizer\\data\\test.csv\")"
   ]
  },
  {
   "cell_type": "code",
   "execution_count": 1,
   "metadata": {},
   "outputs": [
    {
     "ename": "NameError",
     "evalue": "name 'train_data' is not defined",
     "output_type": "error",
     "traceback": [
      "\u001b[1;31m---------------------------------------------------------------------------\u001b[0m",
      "\u001b[1;31mNameError\u001b[0m                                 Traceback (most recent call last)",
      "Cell \u001b[1;32mIn[1], line 1\u001b[0m\n\u001b[1;32m----> 1\u001b[0m train_data\u001b[38;5;241m.\u001b[39mtail()\n",
      "\u001b[1;31mNameError\u001b[0m: name 'train_data' is not defined"
     ]
    }
   ],
   "source": [
    "train_data.shape"
   ]
  },
  {
   "cell_type": "code",
   "execution_count": 142,
   "metadata": {},
   "outputs": [],
   "source": [
    "#converting data into numpy array\n",
    "import numpy as np\n",
    "train_data=np.array(train_data)\n",
    "test_data=np.array(test_data)"
   ]
  },
  {
   "cell_type": "code",
   "execution_count": 143,
   "metadata": {},
   "outputs": [
    {
     "data": {
      "text/plain": [
       "array([[1, 0, 0, ..., 0, 0, 0],\n",
       "       [0, 0, 0, ..., 0, 0, 0],\n",
       "       [1, 0, 0, ..., 0, 0, 0],\n",
       "       ...,\n",
       "       [7, 0, 0, ..., 0, 0, 0],\n",
       "       [6, 0, 0, ..., 0, 0, 0],\n",
       "       [9, 0, 0, ..., 0, 0, 0]], dtype=int64)"
      ]
     },
     "execution_count": 143,
     "metadata": {},
     "output_type": "execute_result"
    }
   ],
   "source": [
    "train_data"
   ]
  },
  {
   "cell_type": "code",
   "execution_count": 144,
   "metadata": {},
   "outputs": [],
   "source": [
    "#split training data into validation and training data\n",
    "m, n =train_data.shape\n",
    "np.random.shuffle(train_data)\n",
    "\n",
    "dev_data=train_data[0:1000].T\n",
    "Y_dev=dev_data[0]\n",
    "X_dev=dev_data[1:n]\n",
    "\n",
    "train_data=train_data[1000:m].T\n",
    "Y_train=train_data[0]\n",
    "X_train=train_data[1:n]\n",
    "X_train = X_train / 255.\n",
    "_,m_train = X_train.shape\n"
   ]
  },
  {
   "cell_type": "code",
   "execution_count": 145,
   "metadata": {},
   "outputs": [],
   "source": [
    "def init_params():\n",
    "    W1=np.random.rand(10,784) - 0.5\n",
    "    b1=np.random.rand(10,1) - 0.5\n",
    "    W2=np.random.rand(10,10)- 0.5\n",
    "    b2=np.random.rand(10,1) - 0.5\n",
    "    return W1,b1,W2,b2     "
   ]
  },
  {
   "cell_type": "code",
   "execution_count": 146,
   "metadata": {},
   "outputs": [],
   "source": [
    "def ReLU(Z):\n",
    "    return np.maximum(0,Z)\n",
    "\n",
    "def softmax(Z):\n",
    "    A = np.exp(Z) / sum(np.exp(Z))\n",
    "    return A\n",
    "  "
   ]
  },
  {
   "cell_type": "code",
   "execution_count": 147,
   "metadata": {},
   "outputs": [],
   "source": [
    "def feedforward(W1,b1,W2,b2,X):\n",
    "    Z1=W1.dot(X) + b1\n",
    "    A1=ReLU(Z1)\n",
    "    Z2=W2.dot(A1) + b2\n",
    "    A2=softmax(Z2)\n",
    "    return Z1, A1, Z2, A2"
   ]
  },
  {
   "cell_type": "code",
   "execution_count": 148,
   "metadata": {},
   "outputs": [],
   "source": [
    "\n",
    "def onehot(Y):\n",
    "    one_hot_Y = np.zeros((Y.size, Y.max() + 1))\n",
    "    one_hot_Y[np.arange(Y.size), Y] = 1  # Corrected indexing\n",
    "    one_hot_Y = one_hot_Y.T\n",
    "    return one_hot_Y\n"
   ]
  },
  {
   "cell_type": "code",
   "execution_count": 149,
   "metadata": {},
   "outputs": [],
   "source": [
    "def deriv_RELU(Z):\n",
    "    return Z  > 0"
   ]
  },
  {
   "cell_type": "code",
   "execution_count": 150,
   "metadata": {},
   "outputs": [],
   "source": [
    "def backprop(Z1,A1,Z2,A2,W1,W2,X,Y):\n",
    "    one_hot_Y=onehot(Y)\n",
    "    dZ2=A2-one_hot_Y\n",
    "    dW2=(1/m)* dZ2.dot(A1.T)\n",
    "    db2=(1/m)* np.sum(dZ2)\n",
    "    dZ1=W2.T.dot(dZ2) * deriv_RELU(Z1)\n",
    "    dW1=(1/m) * dZ1.dot(X.T)\n",
    "    db1=(1/m)*np.sum(dZ1)\n",
    "    return dW1,db1,dW2,db2\n",
    "    \n",
    "    \n",
    "def update_params(W1,b1,W2,b2,dW1,db1,dW2,db2,alpha):\n",
    "    W1=W1-alpha * dW1\n",
    "    b1=b1-alpha * db1\n",
    "    W2=W2-alpha * dW2\n",
    "    b2=b2-alpha * db2\n",
    "    return W1,b1,W2,b2\n",
    "    \n",
    "    "
   ]
  },
  {
   "cell_type": "code",
   "execution_count": 151,
   "metadata": {},
   "outputs": [],
   "source": [
    "def get_predictions(A2):\n",
    "    return np.argmax(A2,0)\n",
    "def get_accuracy(predictions,Y):\n",
    "    print(predictions,Y)\n",
    "    return np.sum(predictions == Y )/ Y.size"
   ]
  },
  {
   "cell_type": "code",
   "execution_count": 152,
   "metadata": {},
   "outputs": [],
   "source": [
    "def gradient_descent(X,Y,iterations,alpha):\n",
    "    W1,b1,W2,b2=init_params()\n",
    "    for i in range(iterations):\n",
    "        Z1,A1,Z2,A2=feedforward(W1,b1,W2,b2,X)\n",
    "        dW1,db1,dW2,db2=backprop(Z1,A1,Z2,A2,W1,W2,X,Y)\n",
    "        W1,b1,W2,b2=update_params(W1,b1,W2,b2,dW1,db1,dW2,db2,alpha)\n",
    "        if i % 50 ==0:\n",
    "            print(\"Iteration:\",i)\n",
    "            print(\"Accuracy:\",get_accuracy(get_predictions(A2),Y))\n",
    "    return W1,b1,W2,b2"
   ]
  },
  {
   "cell_type": "code",
   "execution_count": 154,
   "metadata": {},
   "outputs": [
    {
     "name": "stdout",
     "output_type": "stream",
     "text": [
      "Iteration: 0\n",
      "[0 0 6 ... 6 0 1] [2 4 1 ... 0 4 0]\n",
      "Accuracy: 0.057439024390243905\n",
      "Iteration: 50\n",
      "[2 6 3 ... 0 8 0] [2 4 1 ... 0 4 0]\n",
      "Accuracy: 0.33134146341463416\n",
      "Iteration: 100\n",
      "[2 6 1 ... 0 2 0] [2 4 1 ... 0 4 0]\n",
      "Accuracy: 0.5578048780487805\n",
      "Iteration: 150\n",
      "[2 4 1 ... 0 7 0] [2 4 1 ... 0 4 0]\n",
      "Accuracy: 0.6964146341463414\n",
      "Iteration: 200\n",
      "[2 4 1 ... 0 7 0] [2 4 1 ... 0 4 0]\n",
      "Accuracy: 0.7508780487804878\n",
      "Iteration: 250\n",
      "[2 4 1 ... 0 7 0] [2 4 1 ... 0 4 0]\n",
      "Accuracy: 0.7809268292682927\n",
      "Iteration: 300\n",
      "[2 4 1 ... 0 7 0] [2 4 1 ... 0 4 0]\n",
      "Accuracy: 0.7987560975609757\n",
      "Iteration: 350\n",
      "[2 4 1 ... 0 7 0] [2 4 1 ... 0 4 0]\n",
      "Accuracy: 0.8132195121951219\n",
      "Iteration: 400\n",
      "[2 4 1 ... 0 7 0] [2 4 1 ... 0 4 0]\n",
      "Accuracy: 0.8247560975609756\n",
      "Iteration: 450\n",
      "[2 4 1 ... 0 7 0] [2 4 1 ... 0 4 0]\n",
      "Accuracy: 0.8337560975609756\n"
     ]
    }
   ],
   "source": [
    "W1,b1,W2,b2=gradient_descent(X_train,Y_train,500,0.10)"
   ]
  },
  {
   "cell_type": "code",
   "execution_count": 157,
   "metadata": {},
   "outputs": [],
   "source": [
    "import matplotlib.pyplot as plt\n",
    "def make_predictions(X, W1, b1, W2, b2):\n",
    "    _, _, _, A2 =feedforward(W1, b1, W2, b2, X)\n",
    "    predictions = get_predictions(A2)\n",
    "    return predictions\n",
    "\n",
    "def test_prediction(index, W1, b1, W2, b2):\n",
    "    current_image = X_train[:, index, None]\n",
    "    prediction = make_predictions(X_train[:, index, None], W1, b1, W2, b2)\n",
    "    label = Y_train[index]\n",
    "    print(\"Prediction: \", prediction)\n",
    "    print(\"Label: \", label)\n",
    "    \n",
    "    current_image = current_image.reshape((28, 28)) * 255\n",
    "    plt.gray()\n",
    "    plt.imshow(current_image, interpolation='nearest')\n",
    "    plt.show()"
   ]
  },
  {
   "cell_type": "code",
   "execution_count": 160,
   "metadata": {},
   "outputs": [
    {
     "name": "stdout",
     "output_type": "stream",
     "text": [
      "Prediction:  [2]\n",
      "Label:  2\n"
     ]
    },
    {
     "data": {
      "image/png": "[encoded data removed]",
      "text/plain": [
       "<Figure size 640x480 with 1 Axes>"
      ]
     },
     "metadata": {},
     "output_type": "display_data"
    },
    {
     "name": "stdout",
     "output_type": "stream",
     "text": [
      "Prediction:  [4]\n",
      "Label:  4\n"
     ]
    },
    {
     "data": {
      "image/png": "[encoded data removed]",
      "text/plain": [
       "<Figure size 640x480 with 1 Axes>"
      ]
     },
     "metadata": {},
     "output_type": "display_data"
    }
   ],
   "source": [
    "test_prediction(0, W1, b1, W2, b2)\n",
    "test_prediction(1, W1, b1, W2, b2)"
   ]
  },
  {
   "cell_type": "code",
   "execution_count": 159,
   "metadata": {},
   "outputs": [
    {
     "name": "stdout",
     "output_type": "stream",
     "text": [
      "[3 2 2 4 1 5 2 2 4 4 0 5 2 2 1 5 7 7 4 4 8 4 7 2 4 4 1 4 7 2 5 8 2 4 4 0 1\n",
      " 3 4 4 4 4 4 7 7 1 4 2 2 4 1 0 1 0 7 2 1 1 4 1 0 1 9 4 7 0 5 7 1 8 2 4 1 1\n",
      " 2 0 5 4 2 2 0 5 1 1 2 4 4 3 3 4 5 1 9 0 3 0 9 2 3 8 4 4 1 8 4 9 3 4 3 5 2\n",
      " 9 2 8 0 0 8 3 8 4 5 2 4 0 4 7 0 2 0 7 1 4 7 1 3 2 2 0 3 7 4 1 2 1 7 4 4 1\n",
      " 4 2 3 8 4 1 3 1 4 0 4 4 2 8 7 2 2 1 3 0 4 2 5 0 2 1 2 1 2 9 7 2 1 1 4 5 2\n",
      " 5 1 0 1 4 1 1 7 3 1 5 3 1 2 2 4 4 1 7 4 3 4 4 5 3 0 4 4 1 7 4 4 3 4 5 0 1\n",
      " 2 7 0 8 7 1 9 7 4 3 7 1 8 3 3 1 0 5 4 8 0 7 7 1 2 2 3 1 1 4 7 0 3 8 2 7 1\n",
      " 1 5 1 3 4 1 7 3 2 6 6 0 8 0 8 5 1 5 1 1 4 4 0 5 2 2 0 3 4 3 2 8 4 4 4 3 8\n",
      " 4 0 3 1 2 1 7 8 7 4 0 4 4 4 3 4 7 2 3 2 2 2 3 4 2 2 7 4 2 7 7 5 7 4 5 8 5\n",
      " 1 4 7 3 5 1 4 2 1 3 2 5 4 3 3 2 3 7 4 0 1 4 2 1 2 1 0 4 9 4 4 2 4 1 7 0 4\n",
      " 1 4 0 1 5 1 9 4 1 0 2 8 3 7 2 8 5 3 1 4 1 7 4 3 4 2 4 1 4 3 2 3 5 2 8 3 2\n",
      " 7 0 0 3 8 4 4 5 0 4 9 3 7 8 2 5 0 8 0 7 1 7 4 0 4 0 3 4 4 2 1 1 1 0 1 0 8\n",
      " 3 1 0 4 7 7 9 9 1 0 1 2 0 4 1 2 3 7 2 0 9 5 1 0 5 5 7 4 2 7 8 7 5 4 2 0 1\n",
      " 1 4 2 7 2 1 4 5 2 4 5 0 0 2 8 4 7 3 3 0 1 3 2 4 2 7 2 3 0 1 4 0 4 4 3 7 7\n",
      " 2 2 7 4 4 4 8 4 0 2 2 0 2 2 2 1 0 4 4 0 1 7 0 2 1 0 5 0 1 0 1 3 1 2 4 2 5\n",
      " 8 7 1 7 1 8 2 1 0 4 1 0 2 2 4 0 4 8 1 2 7 9 8 3 3 2 8 1 1 2 0 5 4 1 7 0 2\n",
      " 1 0 2 0 2 1 3 2 2 2 8 4 4 4 0 7 2 0 0 4 1 2 0 4 7 4 2 1 4 3 2 2 3 3 0 5 5\n",
      " 5 7 4 0 0 2 2 8 2 8 7 1 2 1 4 7 4 7 0 9 4 7 0 0 7 4 4 1 3 3 1 4 4 2 2 7 3\n",
      " 2 1 9 4 2 2 0 5 8 4 1 4 1 5 0 1 2 0 3 2 1 1 1 4 1 2 2 7 7 4 4 4 2 2 4 7 5\n",
      " 7 3 5 2 1 2 8 2 4 4 3 7 1 1 7 0 4 1 2 4 8 6 8 2 3 0 7 0 1 7 4 7 1 2 4 2 2\n",
      " 7 5 4 0 7 0 3 7 4 3 8 2 1 0 2 4 4 3 5 2 7 1 1 4 9 1 2 5 0 7 0 4 1 4 7 7 0\n",
      " 6 1 3 8 2 1 0 5 4 3 2 4 7 0 1 4 0 7 0 7 7 2 4 2 4 2 2 3 2 1 1 7 9 4 7 3 4\n",
      " 1 3 8 2 7 1 2 4 0 4 7 9 3 7 0 1 4 7 9 0 6 3 2 2 4 4 2 0 5 0 3 2 2 7 1 4 7\n",
      " 8 0 2 4 3 0 2 7 1 2 2 1 1 6 0 4 4 0 5 3 5 7 4 0 4 3 9 4 4 1 4 4 2 2 1 4 4\n",
      " 7 4 1 7 4 1 6 3 2 5 5 1 1 2 7 7 2 9 0 1 4 4 1 5 1 5 7 3 5 0 0 1 1 7 7 0 3\n",
      " 5 0 4 8 2 1 3 0 1 1 5 2 2 7 1 3 7 9 4 1 4 3 4 9 4 2 0 9 1 2 1 7 2 3 4 7 4\n",
      " 0 4 3 4 2 2 0 1 5 3 4 3 5 4 1 4 0 7 2 2 7 9 4 4 4 4 8 4 2 1 4 4 8 7 1 2 0\n",
      " 7] [3 6 2 4 1 3 8 2 4 9 0 5 3 6 1 5 9 9 4 4 3 9 7 2 6 4 1 9 7 8 9 8 6 4 4 0 3\n",
      " 9 4 4 4 4 8 9 9 1 4 8 4 8 1 0 1 0 1 2 1 1 9 1 5 1 9 9 7 3 5 7 1 8 6 4 1 1\n",
      " 3 0 5 9 2 2 0 5 7 1 2 9 9 5 3 1 8 2 9 0 9 0 9 6 8 8 9 4 1 8 7 8 3 4 3 5 8\n",
      " 9 6 3 0 0 8 3 8 4 5 2 4 6 4 7 0 2 0 9 1 9 7 1 3 6 3 0 5 7 4 1 2 8 9 4 8 1\n",
      " 9 2 8 8 4 5 3 1 4 0 8 5 2 8 7 3 6 1 3 0 9 3 5 0 2 1 6 1 8 5 7 2 1 1 4 5 6\n",
      " 6 1 0 1 4 1 1 7 3 1 5 3 1 8 8 6 9 1 7 9 3 6 6 5 3 0 4 4 1 7 2 4 3 4 5 0 1\n",
      " 6 7 2 8 2 1 8 9 6 5 7 1 8 3 8 1 8 5 4 8 0 7 7 8 2 6 5 1 1 4 7 0 5 8 2 7 1\n",
      " 1 5 1 5 9 1 9 8 2 6 6 3 8 6 8 5 1 8 1 1 4 4 0 5 3 8 0 3 9 3 2 8 4 4 6 5 8\n",
      " 4 0 3 8 6 1 7 8 7 5 0 4 4 4 8 6 7 2 3 6 2 2 8 9 6 8 9 2 8 9 7 3 7 2 5 8 5\n",
      " 1 4 7 5 5 1 4 2 3 3 2 5 4 5 5 6 3 7 6 0 1 4 6 1 2 1 0 9 9 6 5 4 4 8 7 0 6\n",
      " 1 9 5 1 8 1 9 6 1 0 2 8 3 7 3 8 5 5 1 4 1 9 4 8 4 8 9 1 9 3 6 5 5 3 7 3 2\n",
      " 7 0 0 8 3 4 4 3 0 4 9 3 7 8 3 5 0 8 8 7 1 7 4 0 9 0 3 9 9 2 1 3 1 0 2 0 5\n",
      " 3 3 0 9 7 1 9 9 2 0 1 2 0 9 1 8 3 7 2 0 3 5 2 0 5 5 7 9 2 7 5 9 3 6 2 0 1\n",
      " 3 4 2 5 2 2 9 5 2 4 8 0 0 6 8 9 7 3 3 0 1 5 2 9 2 7 2 8 5 1 4 5 9 4 5 9 7\n",
      " 2 8 7 4 8 6 8 9 2 2 3 0 5 5 3 1 0 5 9 2 1 7 2 6 1 6 6 0 1 5 1 3 1 3 6 2 5\n",
      " 2 7 8 7 1 8 2 1 0 9 1 0 2 6 7 0 4 8 1 8 7 8 8 3 8 2 8 1 1 6 2 8 4 2 7 0 7\n",
      " 1 0 8 0 3 3 8 2 2 2 3 5 6 4 0 9 2 0 0 4 1 3 0 4 7 4 6 1 9 5 2 2 8 3 0 8 5\n",
      " 5 2 9 0 0 6 8 8 2 9 7 5 5 1 8 7 8 7 4 9 4 7 0 6 7 4 7 1 5 3 1 9 6 2 5 7 3\n",
      " 3 1 8 4 7 2 2 8 2 4 1 9 1 5 0 1 2 0 3 6 1 2 1 7 9 6 2 7 7 9 4 4 2 2 4 7 5\n",
      " 8 5 6 6 2 6 8 3 6 4 3 7 1 1 5 6 9 7 3 9 0 6 8 2 8 0 9 0 3 9 9 8 1 2 9 4 2\n",
      " 7 5 4 0 7 0 5 7 4 5 8 3 1 0 2 4 4 8 5 3 9 1 1 4 5 1 2 8 0 7 0 4 1 4 9 7 0\n",
      " 6 1 5 8 6 1 0 6 4 3 6 9 7 0 1 4 6 7 0 7 7 2 9 8 9 0 2 3 2 1 5 7 9 8 7 8 4\n",
      " 1 3 8 2 5 1 6 4 5 9 7 7 3 7 0 3 6 7 5 0 6 3 3 6 4 6 2 0 5 0 3 2 6 9 2 4 7\n",
      " 8 5 3 9 5 0 3 7 1 2 6 1 1 6 0 4 8 0 5 3 5 7 8 0 4 3 7 4 5 2 4 4 7 2 1 8 5\n",
      " 7 9 1 7 5 1 6 3 6 5 6 1 8 8 9 0 6 2 0 1 9 9 1 5 3 8 7 1 5 0 2 1 1 7 0 9 8\n",
      " 3 0 6 9 6 1 5 0 1 1 8 2 8 9 1 5 7 9 9 1 9 3 4 9 4 2 0 9 1 2 1 9 2 8 4 9 8\n",
      " 0 9 8 9 8 2 2 1 5 5 4 3 8 6 1 9 2 7 2 6 7 4 4 4 9 4 3 4 0 1 4 4 8 7 1 6 0\n",
      " 9]\n"
     ]
    },
    {
     "name": "stderr",
     "output_type": "stream",
     "text": [
      "C:\\Users\\hp\\AppData\\Local\\Temp\\ipykernel_10684\\3364100067.py:5: RuntimeWarning: overflow encountered in exp\n",
      "  A = np.exp(Z) / sum(np.exp(Z))\n",
      "C:\\Users\\hp\\AppData\\Local\\Temp\\ipykernel_10684\\3364100067.py:5: RuntimeWarning: invalid value encountered in divide\n",
      "  A = np.exp(Z) / sum(np.exp(Z))\n"
     ]
    },
    {
     "data": {
      "text/plain": [
       "0.615"
      ]
     },
     "execution_count": 159,
     "metadata": {},
     "output_type": "execute_result"
    }
   ],
   "source": [
    "dev_predictions = make_predictions(X_dev, W1, b1, W2, b2)\n",
    "get_accuracy(dev_predictions, Y_dev)"
   ]
  },
  {
   "cell_type": "code",
   "execution_count": null,
   "metadata": {},
   "outputs": [],
   "source": []
  }
 ],
 "metadata": {
  "kernelspec": {
   "display_name": "myenv",
   "language": "python",
   "name": "python3"
  },
  "language_info": {
   "codemirror_mode": {
    "name": "ipython",
    "version": 3
   },
   "file_extension": ".py",
   "mimetype": "text/x-python",
   "name": "python",
   "nbconvert_exporter": "python",
   "pygments_lexer": "ipython3",
   "version": "3.12.3"
  }
 },
 "nbformat": 4,
 "nbformat_minor": 2
}
