{
 "cells": [
  {
   "cell_type": "code",
   "execution_count": 1,
   "metadata": {},
   "outputs": [
    {
     "name": "stderr",
     "output_type": "stream",
     "text": [
      "c:\\Users\\hp\\anaconda3\\envs\\dpenv\\Lib\\site-packages\\tqdm\\auto.py:21: TqdmWarning: IProgress not found. Please update jupyter and ipywidgets. See https://ipywidgets.readthedocs.io/en/stable/user_install.html\n",
      "  from .autonotebook import tqdm as notebook_tqdm\n"
     ]
    }
   ],
   "source": [
    "#import libraries\n",
    "import torch\n",
    "import torch.nn as nn\n",
    "import torchvision\n",
    "import torchvision.transforms as transforms\n",
    "import matplotlib.pyplot as plt\n",
    "from torch.utils.data import Dataset, DataLoader"
   ]
  },
  {
   "cell_type": "code",
   "execution_count": 25,
   "metadata": {},
   "outputs": [],
   "source": [
    "#device configuration:GPU support\n",
    "device=torch.device('cuda' if torch.cuda.is_available() else 'cpu')"
   ]
  },
  {
   "cell_type": "code",
   "execution_count": 30,
   "metadata": {},
   "outputs": [],
   "source": [
    "import pandas as pd\n",
    "from sklearn.model_selection import train_test_split\n",
    "\n",
    "#loading train dataset\n",
    "train_data=pd.read_csv(r\"E:\\Projects\\Victor-Files\\Digit_recognizer\\data\\train.csv\")\n",
    "X_train=train_data.iloc[:,1:].values/255.0 #Normalize pixel values\n",
    "y_train=train_data.iloc[:,0].values\n",
    "#loading test dataset\n",
    "X_test=pd.read_csv(r\"E:\\Projects\\Victor-Files\\Digit_recognizer\\data\\test.csv\").values / 255.0 \n",
    "\n",
    "# Split the training data into training and validation sets\n",
    "X_train, X_val, y_train, y_val = train_test_split(X_train, y_train, test_size=0.2, random_state=42)\n",
    "\n",
    "# Convert to torch tensors\n",
    "X_train = torch.tensor(X_train, dtype=torch.float32)  # Features as float32\n",
    "y_train = torch.tensor(y_train, dtype=torch.long)     # Labels as int64 (torch.long)\n",
    "X_val = torch.tensor(X_val, dtype=torch.float32)      # Features as float32\n",
    "y_val = torch.tensor(y_val, dtype=torch.long)         # Labels as int64 (torch.long)\n",
    "X_test = torch.tensor(X_test, dtype=torch.float32)    # Features as float32\n"
   ]
  },
  {
   "cell_type": "code",
   "execution_count": 31,
   "metadata": {},
   "outputs": [],
   "source": [
    "#datasets\n",
    "class MNISTDataset(Dataset):\n",
    "    def __init__(self, X, y=None):\n",
    "        self.X = X\n",
    "        self.y = y\n",
    "\n",
    "    def __len__(self):\n",
    "        return len(self.X)\n",
    "\n",
    "    def __getitem__(self, idx):\n",
    "        if self.y is not None:\n",
    "            return self.X[idx], self.y[idx]\n",
    "        else:\n",
    "            return self.X[idx]"
   ]
  },
  {
   "cell_type": "code",
   "execution_count": 32,
   "metadata": {},
   "outputs": [],
   "source": [
    "# Create datasets\n",
    "train_dataset = MNISTDataset(X_train, y_train)\n",
    "val_dataset = MNISTDataset(X_val, y_val)\n",
    "test_dataset = MNISTDataset(X_test)\n",
    "\n",
    "# Create dataloaders\n",
    "train_loader = DataLoader(train_dataset, batch_size=100, shuffle=True)\n",
    "val_loader = DataLoader(val_dataset, batch_size=100, shuffle=False)\n",
    "test_loader = DataLoader(test_dataset, batch_size=100, shuffle=False)"
   ]
  },
  {
   "cell_type": "code",
   "execution_count": 33,
   "metadata": {},
   "outputs": [
    {
     "name": "stdout",
     "output_type": "stream",
     "text": [
      "Sample Label: 1\n",
      "Sample Image Shape: torch.Size([784])\n"
     ]
    }
   ],
   "source": [
    "# We can create an itterater using the dataloaders and take a random sample \n",
    "import random \n",
    "# Create an iterator from the DataLoader\n",
    "data_iter = iter(train_loader)\n",
    "\n",
    "# Get one batch of data\n",
    "images, labels = next(data_iter)\n",
    "\n",
    "# Select a random index from the batch\n",
    "random_index = random.randint(0, len(labels) - 1)\n",
    "\n",
    "# Get the random sample\n",
    "sample_image = images[random_index]\n",
    "sample_label = labels[random_index]\n",
    "\n",
    "print(f'Sample Label: {sample_label}')\n",
    "print(f'Sample Image Shape: {sample_image.shape}')"
   ]
  },
  {
   "cell_type": "code",
   "execution_count": 34,
   "metadata": {},
   "outputs": [
    {
     "data": {
      "image/png": "[encoded data removed]",
      "text/plain": [
       "<Figure size 640x480 with 1 Axes>"
      ]
     },
     "metadata": {},
     "output_type": "display_data"
    }
   ],
   "source": [
    "#Visualize the sample\n",
    "import matplotlib.pyplot as plt\n",
    "\n",
    "# Reshape the sample image to 28x28 for visualization\n",
    "sample_image = sample_image.reshape(28, 28).numpy()\n",
    "\n",
    "# Plot the sample image\n",
    "plt.imshow(sample_image, cmap='gray')\n",
    "plt.title(f'Sample Label: {sample_label.item()}')\n",
    "plt.show()\n"
   ]
  },
  {
   "cell_type": "code",
   "execution_count": 17,
   "metadata": {},
   "outputs": [],
   "source": [
    "#hyperparameters\n",
    "input_size=784\n",
    "hidden_size=100\n",
    "num_classes=10\n",
    "learning_rate=0.001"
   ]
  },
  {
   "cell_type": "code",
   "execution_count": 35,
   "metadata": {},
   "outputs": [],
   "source": [
    "#Neural Network Model\n",
    "class FeedForwardNN(nn.Module):\n",
    "    def __init__(self, input_size, hidden_size, num_classes):\n",
    "        super(FeedForwardNN, self).__init__()\n",
    "        self.l1=nn.Linear(input_size, hidden_size)\n",
    "        self.relu=nn.ReLU()\n",
    "        self.l2=nn.Linear(hidden_size, num_classes)\n",
    "        \n",
    "    def forward(self, x):\n",
    "        out=self.l1(x)\n",
    "        out=self.relu(out)\n",
    "        out=self.l2(out)\n",
    "        return out\n",
    "\n",
    "#Instatnitiate the model\n",
    "model=FeedForwardNN(input_size,hidden_size,num_classes)\n",
    "\n"
   ]
  },
  {
   "cell_type": "code",
   "execution_count": 36,
   "metadata": {},
   "outputs": [],
   "source": [
    "#loss and optimizer\n",
    "criterion=nn.CrossEntropyLoss()\n",
    "optimizer=torch.optim.Adam(model.parameters(), lr=learning_rate)"
   ]
  },
  {
   "cell_type": "code",
   "execution_count": 37,
   "metadata": {},
   "outputs": [],
   "source": [
    "def train(model, train_loader, val_loader, criterion, optimizer, epochs):\n",
    "    for epoch in range(1, epochs + 1):\n",
    "        model.train()\n",
    "        running_loss = 0.0\n",
    "        for batch_idx, (data, target) in enumerate(train_loader):\n",
    "            # Flatten the data\n",
    "            data = data.view(data.size(0), -1)\n",
    "            optimizer.zero_grad()\n",
    "            output = model(data)\n",
    "            loss = criterion(output, target)\n",
    "            loss.backward()\n",
    "            optimizer.step()\n",
    "            running_loss += loss.item()\n",
    "            if batch_idx % 100 == 99:  # Print every 100 batches\n",
    "                print(f'Epoch {epoch}, Batch {batch_idx+1}, Loss: {running_loss / 100:.6f}')\n",
    "                running_loss = 0.0\n",
    "        \n",
    "        "
   ]
  },
  {
   "cell_type": "code",
   "execution_count": 38,
   "metadata": {},
   "outputs": [],
   "source": [
    "#Validate the model\n",
    "def validate(model, val_loader):\n",
    "    model.eval()\n",
    "    correct = 0\n",
    "    total = 0\n",
    "    with torch.no_grad():\n",
    "        for data, target in val_loader:\n",
    "            # Flatten the data\n",
    "            data = data.view(data.size(0), -1)\n",
    "            outputs = model(data)\n",
    "            _, predicted = torch.max(outputs.data, 1)\n",
    "            total += target.size(0)\n",
    "            correct += (predicted == target).sum().item()\n",
    "    accuracy = 100 * correct / total\n",
    "    print(f'Validation Accuracy: {accuracy}%')"
   ]
  },
  {
   "cell_type": "code",
   "execution_count": 39,
   "metadata": {},
   "outputs": [
    {
     "name": "stdout",
     "output_type": "stream",
     "text": [
      "Epoch 1, Batch 100, Loss: 0.931709\n",
      "Epoch 1, Batch 200, Loss: 0.389430\n",
      "Epoch 1, Batch 300, Loss: 0.307554\n",
      "Validation Accuracy: 91.21428571428571%\n",
      "Epoch 2, Batch 100, Loss: 0.271686\n",
      "Epoch 2, Batch 200, Loss: 0.236710\n",
      "Epoch 2, Batch 300, Loss: 0.222327\n",
      "Validation Accuracy: 93.36904761904762%\n",
      "Epoch 3, Batch 100, Loss: 0.194905\n",
      "Epoch 3, Batch 200, Loss: 0.190835\n",
      "Epoch 3, Batch 300, Loss: 0.178091\n",
      "Validation Accuracy: 94.85714285714286%\n",
      "Epoch 4, Batch 100, Loss: 0.145367\n",
      "Epoch 4, Batch 200, Loss: 0.154332\n",
      "Epoch 4, Batch 300, Loss: 0.152623\n",
      "Validation Accuracy: 95.51190476190476%\n",
      "Epoch 5, Batch 100, Loss: 0.127961\n",
      "Epoch 5, Batch 200, Loss: 0.123951\n",
      "Epoch 5, Batch 300, Loss: 0.120334\n",
      "Validation Accuracy: 95.98809523809524%\n",
      "Epoch 6, Batch 100, Loss: 0.109477\n",
      "Epoch 6, Batch 200, Loss: 0.106077\n",
      "Epoch 6, Batch 300, Loss: 0.104595\n",
      "Validation Accuracy: 96.14285714285714%\n",
      "Epoch 7, Batch 100, Loss: 0.090691\n",
      "Epoch 7, Batch 200, Loss: 0.091230\n",
      "Epoch 7, Batch 300, Loss: 0.091049\n",
      "Validation Accuracy: 96.35714285714286%\n",
      "Epoch 8, Batch 100, Loss: 0.078820\n",
      "Epoch 8, Batch 200, Loss: 0.079281\n",
      "Epoch 8, Batch 300, Loss: 0.078572\n",
      "Validation Accuracy: 96.82142857142857%\n",
      "Epoch 9, Batch 100, Loss: 0.065943\n",
      "Epoch 9, Batch 200, Loss: 0.066711\n",
      "Epoch 9, Batch 300, Loss: 0.073764\n",
      "Validation Accuracy: 96.82142857142857%\n",
      "Epoch 10, Batch 100, Loss: 0.057285\n",
      "Epoch 10, Batch 200, Loss: 0.060486\n",
      "Epoch 10, Batch 300, Loss: 0.063091\n",
      "Validation Accuracy: 96.58333333333333%\n"
     ]
    }
   ],
   "source": [
    "# Train the model for 10 epochs\n",
    "train(model, train_loader, val_loader, criterion, optimizer, epochs=10)"
   ]
  },
  {
   "cell_type": "code",
   "execution_count": 51,
   "metadata": {},
   "outputs": [
    {
     "name": "stdout",
     "output_type": "stream",
     "text": [
      "First 10 predictions: [2, 0, 9, 9, 3, 7, 0, 3, 0, 3]\n"
     ]
    }
   ],
   "source": [
    "#Making Predicitons \n",
    "import numpy as np\n",
    "import matplotlib.pyplot as plt\n",
    "\n",
    "def make_predictions(model, test_loader):\n",
    "    model.eval()\n",
    "    predictions = []\n",
    "    logits_list = []  # List to store output logits\n",
    "\n",
    "    with torch.no_grad():\n",
    "        for data in test_loader:\n",
    "            data = data.view(data.size(0), -1)\n",
    "            outputs = model(data)\n",
    "            logits_list.append(outputs.detach().cpu().numpy())  # Store output logits\n",
    "            _, predicted = torch.max(outputs.data, 1)\n",
    "            predictions.extend(predicted.cpu().numpy())\n",
    "\n",
    "    return predictions, logits_list\n",
    "\n",
    "# Make predictions\n",
    "predictions, logits_list = make_predictions(model, test_loader)\n",
    "\n",
    "# Print first 10 predictions\n",
    "print(f\"First 10 predictions: {predictions[:10]}\")\n",
    "\n"
   ]
  },
  {
   "cell_type": "code",
   "execution_count": 50,
   "metadata": {},
   "outputs": [
    {
     "data": {
      "image/png": "[encoded data removed]",
      "text/plain": [
       "<Figure size 1000x600 with 1 Axes>"
      ]
     },
     "metadata": {},
     "output_type": "display_data"
    }
   ],
   "source": [
    "#Visualize output logits for the first batch\n",
    "logits = logits_list[0]\n",
    "num_classes = logits.shape[1]\n",
    "\n",
    "# Bar chart\n",
    "plt.figure(figsize=(10, 6))\n",
    "for i in range(logits.shape[0]):\n",
    "    plt.bar(np.arange(num_classes), logits[i], alpha=0.5)\n",
    "plt.xlabel(\"Class\")\n",
    "plt.ylabel(\"Logit Score\")\n",
    "plt.title(\"Output Logits (Bar Chart)\")\n",
    "plt.show()"
   ]
  },
  {
   "cell_type": "code",
   "execution_count": null,
   "metadata": {},
   "outputs": [],
   "source": []
  }
 ],
 "metadata": {
  "kernelspec": {
   "display_name": "myenv",
   "language": "python",
   "name": "python3"
  },
  "language_info": {
   "codemirror_mode": {
    "name": "ipython",
    "version": 3
   },
   "file_extension": ".py",
   "mimetype": "text/x-python",
   "name": "python",
   "nbconvert_exporter": "python",
   "pygments_lexer": "ipython3",
   "version": "3.12.3"
  }
 },
 "nbformat": 4,
 "nbformat_minor": 2
}
